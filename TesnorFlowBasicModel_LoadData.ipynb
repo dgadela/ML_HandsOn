{
  "nbformat": 4,
  "nbformat_minor": 0,
  "metadata": {
    "colab": {
      "name": "TesnorFlowBasicModel_LoadData.ipynb",
      "provenance": [],
      "collapsed_sections": [],
      "authorship_tag": "ABX9TyMEpEwCuMxE3wwZshQ5s+eb",
      "include_colab_link": true
    },
    "kernelspec": {
      "name": "python3",
      "display_name": "Python 3"
    }
  },
  "cells": [
    {
      "cell_type": "markdown",
      "metadata": {
        "id": "view-in-github",
        "colab_type": "text"
      },
      "source": [
        "<a href=\"https://colab.research.google.com/github/dgadela/ML_HandsOn/blob/master/TesnorFlowBasicModel_LoadData.ipynb\" target=\"_parent\"><img src=\"https://colab.research.google.com/assets/colab-badge.svg\" alt=\"Open In Colab\"/></a>"
      ]
    },
    {
      "cell_type": "code",
      "metadata": {
        "id": "zUc05ljZdYIK",
        "outputId": "8b152acc-8a2f-4e2d-c222-13d719d1d860",
        "colab": {
          "base_uri": "https://localhost:8080/",
          "height": 386
        }
      },
      "source": [
        "#read libraries and load data\n",
        "import pandas as pd\n",
        "import numpy as np\n",
        "import tensorflow as tf\n",
        "from tensorflow.keras import layers\n",
        "from tensorflow.keras.layers.experimental import preprocessing\n",
        "data = pd.read_csv(\n",
        "    \"https://storage.googleapis.com/download.tensorflow.org/data/abalone_train.csv\", header=None, \n",
        "    names=[\"Length\", \"Diameter\", \"Height\", \"Whole weight\", \"Shucked weight\",\n",
        "           \"Viscera weight\", \"Shell weight\", \"Age\"])\n",
        "data.head()\n",
        "data_copy=data.copy()\n",
        "data_age=data.pop('Age')\n",
        "\n",
        "#read features\n",
        "data_features=np.array(data_copy)\n",
        "\n",
        "#regression model to predict the age\n",
        "data_model=tf.keras.Sequential([\n",
        "                                layers.Dense(64),\n",
        "                                layers.Dense(1)\n",
        "])\n",
        "data_model.compile(loss=tf.losses.MeanSquaredError(),optimizer=tf.optimizers.Adam())\n",
        "data_model.fit(data_features,data_age,epochs=10)"
      ],
      "execution_count": 6,
      "outputs": [
        {
          "output_type": "stream",
          "text": [
            "Epoch 1/10\n",
            "104/104 [==============================] - 0s 2ms/step - loss: 10.6555\n",
            "Epoch 2/10\n",
            "104/104 [==============================] - 0s 1ms/step - loss: 0.0707\n",
            "Epoch 3/10\n",
            "104/104 [==============================] - 0s 1ms/step - loss: 0.0503\n",
            "Epoch 4/10\n",
            "104/104 [==============================] - 0s 1ms/step - loss: 0.0339\n",
            "Epoch 5/10\n",
            "104/104 [==============================] - 0s 1ms/step - loss: 0.0223\n",
            "Epoch 6/10\n",
            "104/104 [==============================] - 0s 1ms/step - loss: 0.0145\n",
            "Epoch 7/10\n",
            "104/104 [==============================] - 0s 1ms/step - loss: 0.0097\n",
            "Epoch 8/10\n",
            "104/104 [==============================] - 0s 1ms/step - loss: 0.0067\n",
            "Epoch 9/10\n",
            "104/104 [==============================] - 0s 1ms/step - loss: 0.0048\n",
            "Epoch 10/10\n",
            "104/104 [==============================] - 0s 996us/step - loss: 0.0035\n"
          ],
          "name": "stdout"
        },
        {
          "output_type": "execute_result",
          "data": {
            "text/plain": [
              "<tensorflow.python.keras.callbacks.History at 0x7f0cd114ddd8>"
            ]
          },
          "metadata": {
            "tags": []
          },
          "execution_count": 6
        }
      ]
    }
  ]
}