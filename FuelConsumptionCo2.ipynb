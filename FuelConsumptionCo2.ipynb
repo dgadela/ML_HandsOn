{
  "nbformat": 4,
  "nbformat_minor": 0,
  "metadata": {
    "colab": {
      "name": "FuelConsumptionCo2.ipynb",
      "provenance": [],
      "collapsed_sections": [],
      "authorship_tag": "ABX9TyOFISlQFeGs5fHF3bkrzYrX",
      "include_colab_link": true
    },
    "kernelspec": {
      "name": "python3",
      "display_name": "Python 3"
    }
  },
  "cells": [
    {
      "cell_type": "markdown",
      "metadata": {
        "id": "view-in-github",
        "colab_type": "text"
      },
      "source": [
        "<a href=\"https://colab.research.google.com/github/dgadela/ML_HandsOn/blob/master/FuelConsumptionCo2.ipynb\" target=\"_parent\"><img src=\"https://colab.research.google.com/assets/colab-badge.svg\" alt=\"Open In Colab\"/></a>"
      ]
    },
    {
      "cell_type": "code",
      "metadata": {
        "id": "9UsPA-Yipn3U",
        "outputId": "70baff65-b2e7-491d-9075-e31095174ebc",
        "colab": {
          "base_uri": "https://localhost:8080/",
          "height": 158
        }
      },
      "source": [
        "# Import the required libraries:\n",
        "import pandas as pd\n",
        "import numpy as np\n",
        "import matplotlib.pyplot as plt\n",
        "from sklearn import linear_model\n",
        "# Read the CSV file:\n",
        "data = pd.read_csv(\"FuelConsumptionCo2.csv\")\n",
        "data.head()\n",
        "# Consider features we want to work on:\n",
        "X = data[[ 'ENGINESIZE', 'CYLINDERS', 'FUELCONSUMPTION_CITY','FUELCONSUMPTION_HWY', \n",
        " 'FUELCONSUMPTION_COMB','FUELCONSUMPTION_COMB_MPG']]\n",
        "Y = data[\"CO2EMISSIONS\"]\n",
        "# Generating training and testing data from our data:\n",
        "# We are using 80% data for training.\n",
        "train = data[:(int((len(data)*0.8)))]\n",
        "test = data[(int((len(data)*0.8))):]\n",
        "#Modeling:\n",
        "#Using sklearn package to model data :\n",
        "regr = linear_model.LinearRegression()\n",
        "train_x = np.array(train[['ENGINESIZE', 'CYLINDERS', 'FUELCONSUMPTION_CITY','FUELCONSUMPTION_HWY', 'FUELCONSUMPTION_COMB','FUELCONSUMPTION_COMB_MPG']])\n",
        "train_y = np.array(train[\"CO2EMISSIONS\"])\n",
        "regr.fit(train_x,train_y)\n",
        "test_x = np.array(test[[ 'ENGINESIZE', 'CYLINDERS', 'FUELCONSUMPTION_CITY','FUELCONSUMPTION_HWY', \n",
        " 'FUELCONSUMPTION_COMB','FUELCONSUMPTION_COMB_MPG']])\n",
        "test_y = np.array(test[\"CO2EMISSIONS\"])\n",
        "# print the coefficient values:\n",
        "coeff_data = pd.DataFrame(regr.coef_ , X.columns , columns=[\"Coefficients\"])\n",
        "coeff_data\n",
        "#Now let’s do prediction of data:\n",
        "Y_pred = regr.predict(test_x)\n",
        "# Check accuracy:\n",
        "from sklearn.metrics import r2_score\n",
        "R = r2_score(test_y , Y_pred)\n",
        "print (\"R² :\",R)\n",
        "print(coeff_data)"
      ],
      "execution_count": 10,
      "outputs": [
        {
          "output_type": "stream",
          "text": [
            "R² : 0.9362912548588906\n",
            "                          Coefficients\n",
            "ENGINESIZE                    7.873147\n",
            "CYLINDERS                     8.408908\n",
            "FUELCONSUMPTION_CITY         -3.368325\n",
            "FUELCONSUMPTION_HWY           2.742498\n",
            "FUELCONSUMPTION_COMB          3.851251\n",
            "FUELCONSUMPTION_COMB_MPG     -4.082913\n"
          ],
          "name": "stdout"
        }
      ]
    }
  ]
}