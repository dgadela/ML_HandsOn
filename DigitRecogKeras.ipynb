{
  "nbformat": 4,
  "nbformat_minor": 0,
  "metadata": {
    "colab": {
      "name": "DigitRecogKeras.ipynb",
      "provenance": [],
      "collapsed_sections": [],
      "authorship_tag": "ABX9TyNbqGvNTjguI/WCEUvzAcJM",
      "include_colab_link": true
    },
    "kernelspec": {
      "name": "python3",
      "display_name": "Python 3"
    }
  },
  "cells": [
    {
      "cell_type": "markdown",
      "metadata": {
        "id": "view-in-github",
        "colab_type": "text"
      },
      "source": [
        "<a href=\"https://colab.research.google.com/github/dgadela/ML_HandsOn/blob/master/DigitRecogKeras.ipynb\" target=\"_parent\"><img src=\"https://colab.research.google.com/assets/colab-badge.svg\" alt=\"Open In Colab\"/></a>"
      ]
    },
    {
      "cell_type": "code",
      "metadata": {
        "id": "1q1htYoKaVOZ",
        "outputId": "afe54f5e-69c9-4739-ec4e-abe447a59b35",
        "colab": {
          "base_uri": "https://localhost:8080/",
          "height": 246
        }
      },
      "source": [
        "#import libraries\n",
        "import numpy as np\n",
        "import pandas as pd\n",
        "import matplotlib.pyplot as plt\n",
        "import matplotlib.image as mpimg\n",
        "import seaborn as sns\n",
        "from sklearn.model_selection import train_test_split\n",
        "from sklearn.metrics import confusion_matrix\n",
        "import itertools\n",
        "from keras.utils.np_utils import to_categorical\n",
        "from keras.models import Sequential\n",
        "from keras.layers import Dense,Dropout,Flatten,Conv2D,MaxPool2D\n",
        "from keras.optimizers import RMSprop\n",
        "from keras.preprocessing.image import ImageDataGenerator\n",
        "from keras.callbacks import ReduceLROnPlateau\n",
        "\n",
        "#load Data\n",
        "train=pd.read_csv(\"train_digit.csv\")\n",
        "test=pd.read_csv(\"test_digit.csv\")\n",
        "y_train=train['label']\n",
        "x_train=train.drop(labels=['label'],axis=1)\n",
        "y_train.value_counts()\n",
        "\n",
        "#Normalisation\n",
        "x_train=x_train/255.0\n",
        "test=test/255.0\n",
        "\n",
        "#reshape\n",
        "x_train=x_train.values.reshape(-1,28,28,1)\n",
        "test=test.values.reshape(-1,28,28,1)\n",
        "\n",
        "#label encoding\n",
        "y_train=to_categorical(y_train,num_classes=10)\n",
        "\n",
        "#split training and testing dataset\n",
        "x_train,x_val,y_train,y_val=train_test_split(x_train,y_train,random_state=2)\n",
        "\n",
        "#define the model\n",
        "model=Sequential()\n",
        "model.add(Conv2D(filters=32,kernel_size=(5,5),padding='same',activation='relu',input_shape=(28,28,1)))\n",
        "model.add(Conv2D(filters=32,kernel_size=(5,5),padding='same',activation='relu'))\n",
        "model.add(MaxPool2D(pool_size=(2,2)))\n",
        "model.add(Dropout(0.25))\n",
        "\n",
        "model.add(Conv2D(filters=64,kernel_size=(5,5),padding='same',activation='relu'))\n",
        "model.add(Conv2D(filters=64,kernel_size=(5,5),padding='same',activation='relu'))\n",
        "model.add(MaxPool2D(pool_size=(2,2),strides=(2,2)))\n",
        "model.add(Dropout(0.25))\n",
        "\n",
        "model.add(Flatten())\n",
        "model.add(Dense(256,activation=\"relu\"))\n",
        "model.add(Dropout(0.5))\n",
        "model.add(Dense(10,activation=\"softmax\"))\n",
        "\n",
        "# Define the optimizer\n",
        "optimizer = RMSprop(lr=0.001, rho=0.9, epsilon=1e-08, decay=0.0)\n",
        "# Compile the model\n",
        "model.compile(optimizer = optimizer , loss = \"categorical_crossentropy\", metrics=[\"accuracy\"])\n",
        "\n",
        "# Set a learning rate annealer\n",
        "learning_rate_reduction = ReduceLROnPlateau(monitor='val_acc', patience=3, verbose=1, factor=0.5, min_lr=0.00001)\n",
        "epochs = 1 # Turn epochs to 30 to get 0.9967 accuracy\n",
        "batch_size = 86\n",
        "\n",
        "#fit the model\n",
        "history = model.fit(x_train, y_train, batch_size = batch_size, epochs = epochs, \n",
        "validation_data = (x_val, y_val), verbose = 2)\n",
        "\n",
        "results=model.predict(test)\n",
        "results = np.argmax(results,axis = 1)\n",
        "results = pd.Series(results,name=\"Label\")\n",
        "print(results)"
      ],
      "execution_count": 12,
      "outputs": [
        {
          "output_type": "stream",
          "text": [
            "367/367 - 345s - loss: 0.2536 - accuracy: 0.9213 - val_loss: 0.0713 - val_accuracy: 0.9785\n",
            "0        2\n",
            "1        0\n",
            "2        9\n",
            "3        9\n",
            "4        3\n",
            "        ..\n",
            "27995    9\n",
            "27996    7\n",
            "27997    3\n",
            "27998    9\n",
            "27999    2\n",
            "Name: Label, Length: 28000, dtype: int64\n"
          ],
          "name": "stdout"
        }
      ]
    }
  ]
}